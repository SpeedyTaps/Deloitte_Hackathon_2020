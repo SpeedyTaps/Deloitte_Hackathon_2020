{
 "cells": [
  {
   "cell_type": "code",
   "execution_count": 1,
   "metadata": {},
   "outputs": [
    {
     "data": {
      "text/plain": [
       "'\\nthis is for the web scrapping and data collection\\n'"
      ]
     },
     "execution_count": 1,
     "metadata": {},
     "output_type": "execute_result"
    }
   ],
   "source": [
    "'''\n",
    "this is for the web scrapping and data collection\n",
    "'''"
   ]
  },
  {
   "cell_type": "code",
   "execution_count": 88,
   "metadata": {},
   "outputs": [
    {
     "name": "stdout",
     "output_type": "stream",
     "text": [
      "https://data.nsw.gov.au/data/dataset/aefcde60-3b0c-4bc0-9af1-6fe652944ec2/resource/21304414-1ff1-4243-a5d2-f52778048b29/download/covid-19-cases-by-notification-date-and-postcode-local-health-district-and-local-government-area.csv\n"
     ]
    }
   ],
   "source": [
    "'''\n",
    "downloading the information\n",
    "'''\n",
    "import requests\n",
    "from urllib import request\n",
    "from bs4 import BeautifulSoup\n",
    "\n",
    "url = 'https://data.nsw.gov.au/data/dataset/covid-19-cases-by-location/resource/21304414-1ff1-4243-a5d2-f52778048b29?fbclid=IwAR3gSceCXp8zZY4-OBMJm9bwPI0cLRaHkKT880bUPUqqua8rKIT94OYHyEI'\n",
    "site = request.urlopen(url)\n",
    "\n",
    "\n",
    "'''\n",
    "bs4\n",
    "'''\n",
    "\n",
    "soup = BeautifulSoup(site, 'html.parser')\n",
    "\n",
    "for A in soup.find_all('a'):\n",
    "\n",
    "    c = A.get('class')\n",
    "    if(c == ['btn', 'btn-primary', 'resource-url-analytics', 'resource-type-None']):\n",
    "        file = A.get('href')\n",
    "        print(file)\n",
    "        FILE = requests.get(file, allow_redirects=True)\n",
    "\n",
    "        open('data.csv', 'wb').write(FILE.content)\n",
    "\n",
    "#print(soup.find(role='btn btn-primary resource-url-analytics resource-type-None'))"
   ]
  },
  {
   "cell_type": "code",
   "execution_count": 89,
   "metadata": {},
   "outputs": [],
   "source": [
    "import numpy as np\n",
    "import pandas as pd\n",
    "\n",
    "data = pd.read_csv(\"data.csv\")\n",
    "\n",
    "\n",
    "\n"
   ]
  },
  {
   "cell_type": "code",
   "execution_count": 90,
   "metadata": {},
   "outputs": [
    {
     "name": "stdout",
     "output_type": "stream",
     "text": [
      "     notification_date  postcode lhd_2010_code lhd_2010_name  lga_code19  \\\n",
      "0           2020-01-25    2134.0          X700        Sydney     11300.0   \n",
      "1851        2020-03-29    2134.0          X700        Sydney     11300.0   \n",
      "1966        2020-03-30    2134.0          X700        Sydney     11300.0   \n",
      "2304        2020-04-02    2134.0          X700        Sydney     11300.0   \n",
      "2725        2020-04-08    2134.0          X700        Sydney     11300.0   \n",
      "\n",
      "       lga_name19  \n",
      "0     Burwood (A)  \n",
      "1851  Burwood (A)  \n",
      "1966  Burwood (A)  \n",
      "2304  Burwood (A)  \n",
      "2725  Burwood (A)  \n"
     ]
    }
   ],
   "source": [
    "'''\n",
    "create array of dictionaries of all possible post codes\n",
    "'''\n",
    "data.values\n",
    "\n",
    "print(data.query('postcode == 2134.0'))"
   ]
  },
  {
   "cell_type": "code",
   "execution_count": 93,
   "metadata": {},
   "outputs": [],
   "source": [
    "database = []\n",
    "\n",
    "\n",
    "def in_data(row, database):\n",
    "    if len(database) == 0:\n",
    "        return False\n",
    "    \n",
    "    else:\n",
    "        for data in database:\n",
    "            if data['Postcode'] == row.postcode:\n",
    "                return True\n",
    "\n",
    "        return False\n",
    "\n",
    "def insert_data(row, database):\n",
    "    database.append({\n",
    "        'Postcode' : row.postcode,\n",
    "        'Phone Numbers' : [],\n",
    "        'Suburb' : [{\n",
    "            'Suburb name': row.lga_name19,\n",
    "            'Cumulative Cases' : 1,\n",
    "            'New Cases' : 0,\n",
    "        }]\n",
    "        \n",
    "    })\n",
    "#for rows in data.values:\n",
    "    \n",
    "    "
   ]
  },
  {
   "cell_type": "code",
   "execution_count": 92,
   "metadata": {},
   "outputs": [],
   "source": [
    "for row in data.itertuples():\n",
    "    print(row)\n",
    "    print(\"\\n\")\n",
    "    if not in_data(row, database):\n",
    "        insert_data(row, database)\n",
    "        "
   ]
  },
  {
   "cell_type": "code",
   "execution_count": 87,
   "metadata": {},
   "outputs": [],
   "source": [
    "for data in database:\n",
    "    print(f\"{data} \\n\\n\")"
   ]
  },
  {
   "cell_type": "code",
   "execution_count": null,
   "metadata": {},
   "outputs": [],
   "source": []
  }
 ],
 "metadata": {
  "kernelspec": {
   "display_name": "Python 3",
   "language": "python",
   "name": "python3"
  },
  "language_info": {
   "codemirror_mode": {
    "name": "ipython",
    "version": 3
   },
   "file_extension": ".py",
   "mimetype": "text/x-python",
   "name": "python",
   "nbconvert_exporter": "python",
   "pygments_lexer": "ipython3",
   "version": "3.7.4"
  }
 },
 "nbformat": 4,
 "nbformat_minor": 4
}
